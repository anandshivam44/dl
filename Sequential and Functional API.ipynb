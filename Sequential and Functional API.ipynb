{
 "cells": [
  {
   "cell_type": "code",
   "execution_count": 1,
   "metadata": {},
   "outputs": [],
   "source": [
    "import os\n",
    "os.environ['TF_CPP_MIN_LOG_LEVEL']='2'\n",
    "import tensorflow as tf\n",
    "from tensorflow import keras\n",
    "from tensorflow.keras import layers\n",
    "from tensorflow.keras.datasets import mnist"
   ]
  },
  {
   "cell_type": "code",
   "execution_count": 2,
   "metadata": {},
   "outputs": [
    {
     "name": "stdout",
     "output_type": "stream",
     "text": [
      "(60000, 28, 28)\n"
     ]
    }
   ],
   "source": [
    "(x_train,y_train),(x_test,y_test)=mnist.load_data()\n",
    "print(x_train.shape)"
   ]
  },
  {
   "cell_type": "code",
   "execution_count": 3,
   "metadata": {},
   "outputs": [],
   "source": [
    "import matplotlib.pyplot as plt"
   ]
  },
  {
   "cell_type": "code",
   "execution_count": 4,
   "metadata": {},
   "outputs": [
    {
     "data": {
      "text/plain": [
       "<matplotlib.image.AxesImage at 0x7fb2435faca0>"
      ]
     },
     "execution_count": 4,
     "metadata": {},
     "output_type": "execute_result"
    },
    {
     "data": {
      "image/png": "[encoded data removed]",
      "text/plain": [
       "<Figure size 432x288 with 1 Axes>"
      ]
     },
     "metadata": {
      "needs_background": "light"
     },
     "output_type": "display_data"
    }
   ],
   "source": [
    "index=29\n",
    "plt.imshow(x_train[index])"
   ]
  },
  {
   "cell_type": "code",
   "execution_count": 5,
   "metadata": {},
   "outputs": [
    {
     "data": {
      "text/plain": [
       "7"
      ]
     },
     "execution_count": 5,
     "metadata": {},
     "output_type": "execute_result"
    }
   ],
   "source": [
    "y_train[index]"
   ]
  },
  {
   "cell_type": "code",
   "execution_count": 6,
   "metadata": {},
   "outputs": [],
   "source": [
    "x_train=x_train.reshape(-1,28*28).astype(\"float32\")/255.0\n",
    "x_test=x_test.reshape(-1,28*28).astype(\"float32\")/255.0"
   ]
  },
  {
   "cell_type": "code",
   "execution_count": 18,
   "metadata": {},
   "outputs": [
    {
     "name": "stdout",
     "output_type": "stream",
     "text": [
      "Model: \"functional_11\"\n",
      "_________________________________________________________________\n",
      "Layer (type)                 Output Shape              Param #   \n",
      "=================================================================\n",
      "input_14 (InputLayer)        [(None, 784)]             0         \n",
      "_________________________________________________________________\n",
      "dense_39 (Dense)             (None, 512)               401920    \n",
      "_________________________________________________________________\n",
      "dense_40 (Dense)             (None, 256)               131328    \n",
      "_________________________________________________________________\n",
      "dense_41 (Dense)             (None, 10)                2570      \n",
      "=================================================================\n",
      "Total params: 535,818\n",
      "Trainable params: 535,818\n",
      "Non-trainable params: 0\n",
      "_________________________________________________________________\n",
      "Epoch 1/5\n",
      "1875/1875 - 6s - loss: 0.1984 - accuracy: 0.9411\n",
      "Epoch 2/5\n",
      "1875/1875 - 6s - loss: 0.0832 - accuracy: 0.9750\n",
      "Epoch 3/5\n",
      "1875/1875 - 6s - loss: 0.0561 - accuracy: 0.9822\n",
      "Epoch 4/5\n",
      "1875/1875 - 6s - loss: 0.0445 - accuracy: 0.9858\n",
      "Epoch 5/5\n",
      "1875/1875 - 6s - loss: 0.0352 - accuracy: 0.9888\n",
      "313/313 - 0s - loss: 0.0721 - accuracy: 0.9801\n"
     ]
    },
    {
     "data": {
      "text/plain": [
       "[0.07212463021278381, 0.9800999760627747]"
      ]
     },
     "execution_count": 18,
     "metadata": {},
     "output_type": "execute_result"
    }
   ],
   "source": [
    "# Sequential API (Very Convinient but not very flexible)\n",
    "model=keras.Sequential(\n",
    "    [\n",
    "        keras.Input(shape=(28*28)),\n",
    "        layers.Dense(512,activation='relu'),\n",
    "        layers.Dense(256,activation='relu'),\n",
    "        layers.Dense(10),\n",
    "    ]\n",
    ")\n",
    "# print(model.summary())\n",
    "# model=keras.Model(inputs=model.inputs,outputs=[model.layers[-2].output])\n",
    "# feature=model.predict(x_train)\n",
    "# print(feature.shape)\n",
    "# import sys\n",
    "# sys.exit()\n",
    "\n",
    "# Functional API a bit more flexible\n",
    "inputs=keras.Input(shape=(784))\n",
    "x=layers.Dense(512,activation='relu')(inputs)\n",
    "x=layers.Dense(256,activation='relu')(x)\n",
    "outputs=layers.Dense(10,activation='sigmoid')(x) \n",
    "model=keras.Model(inputs=inputs,outputs=outputs)\n",
    "model.summary()\n",
    "model.compile(\n",
    "    loss=keras.losses.SparseCategoricalCrossentropy(from_logits=False),\n",
    "    optimizer=keras.optimizers.Adam(lr=0.001),\n",
    "    metrics=[\"accuracy\"],\n",
    ")\n",
    "model.fit(x_train, y_train, batch_size=32, epochs=5, verbose=2)\n",
    "model.evaluate(x_test, y_test, batch_size=32, verbose=2)"
   ]
  },
  {
   "cell_type": "code",
   "execution_count": null,
   "metadata": {},
   "outputs": [],
   "source": []
  }
 ],
 "metadata": {
  "kernelspec": {
   "display_name": "Python 3",
   "language": "python",
   "name": "python3"
  },
  "language_info": {
   "codemirror_mode": {
    "name": "ipython",
    "version": 3
   },
   "file_extension": ".py",
   "mimetype": "text/x-python",
   "name": "python",
   "nbconvert_exporter": "python",
   "pygments_lexer": "ipython3",
   "version": "3.8.2"
  }
 },
 "nbformat": 4,
 "nbformat_minor": 4
}
